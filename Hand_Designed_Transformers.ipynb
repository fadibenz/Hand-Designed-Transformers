{
  "cells": [
    {
      "cell_type": "markdown",
      "metadata": {
        "id": "j-q9zgiEy1e7"
      },
      "source": [
        "# Implement Transformer from Scratch\n",
        "\n",
        "In this coding homework, we will:\n",
        "\n",
        "- Implement a simple transformer model from scratch to enhance your understanding of how it works.\n",
        "- Create a hand-designed transformer model capable of solving a basic problem. This will help you comprehend the various operations that transformers can perform.\n",
        "- Analyze the attention patterns of a trained network to gain insights into how learned models often utilize features that differ greatly from those employed by humans."
      ]
    },
    {
      "cell_type": "code",
      "execution_count": 1,
      "metadata": {
        "id": "xp4QTxnoy1e9"
      },
      "outputs": [],
      "source": [
        "import time\n",
        "import json\n",
        "import inspect\n",
        "import numpy as np\n",
        "import torch\n",
        "import torch.nn as nn\n",
        "import math\n",
        "import random\n",
        "import matplotlib.pyplot as plt\n",
        "plt.rcParams['figure.figsize'] = [20, 5]  # Adjust this to make plots bigger or smaller\n",
        "\n",
        "%load_ext autoreload\n",
        "%autoreload 2\n",
        "\n",
        "def _set_seed(seed):\n",
        "    random.seed(seed)\n",
        "    np.random.seed(seed)\n",
        "    torch.manual_seed(seed)\n",
        "    torch.cuda.manual_seed(seed)\n",
        "\n",
        "TO_SAVE = {\"time\": time.time()}"
      ]
    },
    {
      "cell_type": "markdown",
      "metadata": {
        "id": "SwuAsBRry1e-"
      },
      "source": [
        "## Implement a Simple Transformer\n",
        "\n",
        "Below, you'll find a simple transformer implementation in Numpy that we have provided for you. It's important to note that this implementation is different from a Transformer in real applications. The differences include:\n",
        "\n",
        "- Only a single layer with a single head is in the network.\n",
        "- There are no residual connections.\n",
        "- There is no normalization or dropout.\n",
        "- We concatenate the positional encoding rather than adding it to the inputs.\n",
        "- There are no activation functions or MLP layers.\n",
        "- It does not support attention masking.\n",
        "- The input is a single sequence instead of a batch. So there is no need to implement padding.\n",
        "\n",
        "To ensure that you understand the transformer model fully, your task is to **implement a PyTorch equivalent model**. You don't need to include the printing and plotting code found in the Numpy version. **You should implement a vectorized version of the attention operation**, meaning that you should calculate all attention scores at once, rather than looping over keys. Once you have completed your implementation, make sure it passes the tests included in the cell below."
      ]
    },
    {
      "cell_type": "code",
      "execution_count": 2,
      "metadata": {
        "id": "4ZWNkCEBy1e-"
      },
      "outputs": [],
      "source": [
        "#@title Helper Functions\n",
        "\n",
        "def rescale_and_plot(arr, title='', ax=None, x_lab=None, y_lab=None):\n",
        "    \"\"\"Rescale input array to be between 0 and 1, then plot it\"\"\"\n",
        "    arr = (arr - arr.min())\n",
        "    if arr.max() > 0:\n",
        "        arr = arr / arr.max()\n",
        "    ax.imshow(arr, cmap=\"Reds\")\n",
        "    ax.set_title(title)\n",
        "    ax.set_xticks([])\n",
        "    ax.set_yticks([])\n",
        "    if x_lab is not None:\n",
        "        ax.set_xlabel(x_lab)\n",
        "    if y_lab is not None:\n",
        "        ax.set_ylabel(y_lab)\n",
        "\n",
        "\n",
        "def train_loop(make_batch, input_dim, qk_dim, v_dim, pos_dim=None, max_seq_len=None, remove_cls=False, num_epochs=10001, lr=3e-2):\n",
        "    transformer = PytorchTransformer(input_dim, qk_dim, v_dim, pos_dim, max_seq_len)\n",
        "    optimizer = torch.optim.SGD(transformer.parameters(), lr=lr)\n",
        "    loss_fn = nn.MSELoss()\n",
        "    for i in range(num_epochs):\n",
        "        seq, target = make_batch()\n",
        "        optimizer.zero_grad()\n",
        "        out = transformer(seq)\n",
        "        # If remove_cls is True, remove the first item of the sequence (the CLS token)\n",
        "        if remove_cls:\n",
        "            out = out[1:]\n",
        "        loss = loss_fn(out, target)\n",
        "        loss.backward()\n",
        "        optimizer.step()\n",
        "        if i % 1000 == 0:\n",
        "            print(f'Step {i}: loss {loss.item()}')\n",
        "    return transformer, loss.item()\n",
        "\n",
        "def compare_transformers(hand_transformer, learned_transformer, seq):\n",
        "    # Print the learned matrices\n",
        "    # Rescale each weight matrix to be between 0 and 1, then plot them\n",
        "    print('=' * 40, ' Hand Designed ', '=' * 40)\n",
        "    out_hand = hand_transformer.forward(seq, verbose=False, plot=True)\n",
        "\n",
        "    # Copy weights from the learned transformer to the hand transformer\n",
        "    # so we can run the hand transformer's forward pass, with the plotting code\n",
        "    py_Km = learned_transformer.Km.weight.T.detach().numpy()\n",
        "    py_Qm = learned_transformer.Qm.weight.T.detach().numpy()\n",
        "    py_Vm = learned_transformer.Vm.weight.T.detach().numpy()\n",
        "    # positional encodings, if they exist\n",
        "    if learned_transformer.pos is not None:\n",
        "        py_pos = learned_transformer.pos.weight.detach().numpy()\n",
        "    else:\n",
        "        py_pos = None\n",
        "\n",
        "    print('=' * 40, '   Learned   ', '=' * 40)\n",
        "    np_learned_transformer = NumpyTransformer(py_Km, py_Qm, py_Vm, py_pos)\n",
        "    out_learned = np_learned_transformer.forward(seq, verbose=False, plot=True)\n",
        "    return out_hand, out_learned\n",
        "\n",
        "# Test the numpy transformer and pytorch transformer to make sure they give the same results\n",
        "def test():\n",
        "    min_seq_len = 1\n",
        "    max_seq_len = 4\n",
        "    qk_dim = np.random.randint(1, 5)\n",
        "    v_dim = np.random.randint(1, 5)\n",
        "    in_dim = 5\n",
        "    for i in range(10):\n",
        "        # Randomly sample the matrices\n",
        "        Km = np.random.randn(in_dim, qk_dim)\n",
        "        Qm = np.random.randn(in_dim, qk_dim)\n",
        "        Vm = np.random.randn(in_dim, v_dim)\n",
        "        if i > 4:\n",
        "            # Sometimes, don't use positional encodings\n",
        "            pos = pos_dim = None\n",
        "            seq_dim = in_dim\n",
        "        else:\n",
        "            pos_dim = np.random.randint(2, 4)\n",
        "            pos = np.random.randn(max_seq_len, pos_dim)\n",
        "            seq_dim = in_dim - pos_dim\n",
        "\n",
        "        # Randomly sample the sequence\n",
        "        seq = np.random.randn(np.random.randint(min_seq_len, max_seq_len + 1), seq_dim)\n",
        "        # Get the numpy transformer output\n",
        "        out_np = NumpyTransformer(Km, Qm, Vm, pos).forward(seq, verbose=False)\n",
        "        # Create a pytorch transformer and fill the weights with the numpy matrices\n",
        "        transformer = PytorchTransformer(seq_dim, qk_dim, v_dim, pos_dim, max_seq_len)\n",
        "        state_dict = transformer.state_dict()\n",
        "        # Replace the weights with the numpy matrices\n",
        "        state_dict['Km.weight'] = torch.FloatTensor(Km.T)\n",
        "        state_dict['Qm.weight'] = torch.FloatTensor(Qm.T)\n",
        "        state_dict['Vm.weight'] = torch.FloatTensor(Vm.T)\n",
        "        if pos is not None:\n",
        "            state_dict['pos.weight'] = torch.FloatTensor(pos)\n",
        "        transformer.load_state_dict(state_dict)\n",
        "        # Get the pytorch transformer output\n",
        "        out_py = transformer(torch.FloatTensor(seq)).detach().numpy()\n",
        "        # Compare the outputs\n",
        "        if not np.allclose(out_np, out_py, rtol=1e-3):\n",
        "            print('ERROR!!')\n",
        "            print('Numpy output', out_np)\n",
        "            print('Pytorch output', out_py)\n",
        "            print('Difference', out_np - out_py)\n",
        "            raise ValueError('Numpy and Pytorch outputs do not match')\n",
        "    print('All done!')\n",
        "    _set_seed(1998)\n",
        "    transformer = PytorchTransformer(7, 4, 3, 2, 9)\n",
        "    o = transformer(torch.randn(8, 7))\n",
        "    TO_SAVE[\"torch_transformer_shape\"] = list(o.shape)\n",
        "    TO_SAVE[\"torch_transformer_value\"] = o.view(-1).tolist()[2:7]\n",
        "    TO_SAVE[\"torch_transformer_init\"] = inspect.getsource(PytorchTransformer.__init__)\n",
        "    TO_SAVE[\"torch_transformer_forward\"] = inspect.getsource(PytorchTransformer.forward)"
      ]
    },
    {
      "cell_type": "markdown",
      "source": [
        "Implement the `PytorchTransformer` class. It should be identical to the forward pass of the `NumpyTransformer` class.\n",
        "\n",
        "**Hint:** The attention operation should be implemented as:\n",
        "\n",
        "$$\\mathrm{softmax}(\\dfrac{QK^T}{ \\sqrt{d_k}}) \\cdot V$$\n",
        "\n",
        "where the softmax is applied to the last dimension, meaning that the softmax is applied independently to each query's scores."
      ],
      "metadata": {
        "id": "HOXPqZDBy1e_"
      }
    },
    {
      "cell_type": "code",
      "execution_count": 3,
      "metadata": {
        "id": "elO3aBWny1e_",
        "colab": {
          "base_uri": "https://localhost:8080/"
        },
        "outputId": "bbca715a-4e0e-4082-fe86-c37c2a46cec3"
      },
      "outputs": [
        {
          "output_type": "stream",
          "name": "stdout",
          "text": [
            "All done!\n"
          ]
        }
      ],
      "source": [
        "#@title Numpy Transformer and PyTorch Transformer\n",
        "\n",
        "class NumpyTransformer:\n",
        "    def __init__(self, Km, Qm, Vm, pos=None):\n",
        "        \"\"\"\n",
        "        # Km, Qm, Vm are the matrices that will be used to compute the attention\n",
        "        # Km and Qm are size (input_dim + pos_dim, qk_dim), and Vm is (input_dim + pos_dim, v_dim).\n",
        "        # pos is an array of positional encodings of shape (max_seq_len, pos_dim) that will be concatenated to the input sequence\n",
        "        \"\"\"\n",
        "        self.Km = Km\n",
        "        self.Qm = Qm\n",
        "        self.Vm = Vm\n",
        "        self.pos = pos\n",
        "        self.qk_dim = Qm.shape[1]\n",
        "\n",
        "    def forward(self, seq, verbose=False, plot=False):\n",
        "        # seq is a numpy array of shape (seq_len, input_dim). There is no batch dimension.\n",
        "\n",
        "        # Concatenate positional encodings if they are provided\n",
        "        if self.pos is not None:\n",
        "            seq = np.concatenate([seq, self.pos[:seq.shape[0]]], axis=-1)\n",
        "        K = seq @ self.Km # seq_len x qk_dim\n",
        "        Q = seq @ self.Qm # seq_len x qk_dim\n",
        "        V = seq @ self.Vm # seq_len x v_dim\n",
        "        if verbose:\n",
        "            print('Keys', K.tolist())\n",
        "            print('Queries', Q.tolist())\n",
        "            print('Values', V.tolist())\n",
        "        if plot:\n",
        "            fig, axs = plt.subplots(nrows=1,ncols=8)\n",
        "            fig.tight_layout()\n",
        "            rescale_and_plot(self.Km.T, 'Km', axs[0], x_lab='d_i', y_lab='d_qk')\n",
        "            rescale_and_plot(self.Qm.T, 'Qm', axs[1], x_lab='d_i', y_lab='d_qk')\n",
        "            rescale_and_plot(self.Vm.T, 'Vm', axs[2], x_lab='d_i', y_lab='d_v')\n",
        "\n",
        "            rescale_and_plot(K.T, 'K', axs[3], x_lab='seq', y_lab='d_qk')\n",
        "            rescale_and_plot(Q.T, 'Q', axs[4], x_lab='seq', y_lab='d_qk')\n",
        "            rescale_and_plot(V.T, 'V', axs[5], x_lab='seq', y_lab='d_v')\n",
        "\n",
        "        outputs = []\n",
        "        attn_weights = []\n",
        "        # Compute attention\n",
        "        for i, q in enumerate(Q):\n",
        "            if verbose: print(f'Item {i}: Computing attention for query {q}')\n",
        "            dot = K @ q\n",
        "            if verbose: print('  Dot products between the query and each key:', dot)\n",
        "            # Divide by sqrt(qk_dim)\n",
        "            dot = dot / np.sqrt(self.qk_dim)\n",
        "            # Softmax function\n",
        "            softmax_dot = np.exp(dot) / np.sum(np.exp(dot), axis=-1, keepdims=True)\n",
        "            if verbose: print('  Weighting score for each value:', softmax_dot)\n",
        "            attn_weights.append(softmax_dot)\n",
        "            out_i = softmax_dot @ V\n",
        "            if verbose: print('  New sequence item', out_i)\n",
        "            outputs.append(out_i)\n",
        "        if plot:\n",
        "            rescale_and_plot(np.array(attn_weights).T, 'Attn', axs[6], x_lab='Q', y_lab='K')\n",
        "            rescale_and_plot(np.array(outputs).T, 'Out', axs[7], x_lab='seq', y_lab='d_v')\n",
        "            plt.show()\n",
        "\n",
        "        # Return the output sequence (seq_len, output_dim)\n",
        "        return np.array(outputs)\n",
        "\n",
        "class PytorchTransformer(nn.Module):\n",
        "    def __init__(self, input_dim, qk_dim, v_dim, pos_dim=None, max_seq_len=10):\n",
        "        super().__init__()\n",
        "        self.pos = nn.Embedding(max_seq_len, pos_dim) if pos_dim else None\n",
        "        in_dim = input_dim + (pos_dim if pos_dim else 0)\n",
        "\n",
        "        self.Qm = nn.Linear(in_dim, qk_dim, bias=False)\n",
        "        self.Km = nn.Linear(in_dim, qk_dim, bias=False)\n",
        "        self.Vm = nn.Linear(in_dim, v_dim, bias=False)\n",
        "        self.d_k = qk_dim\n",
        "\n",
        "    def forward(self, seq, verbose=False, plot=False):\n",
        "        indices = torch.arange(seq.size(0))\n",
        "        if self.pos is not None:\n",
        "            seq = torch.cat((seq, self.pos(indices)), dim=-1)\n",
        "\n",
        "        K = self.Km(seq)  # (seq_len, qk_dim)\n",
        "        Q = self.Qm(seq)  # (seq_len, qk_dim)\n",
        "        V = self.Vm(seq)  # (seq_len, v_dim)\n",
        "\n",
        "        if verbose:\n",
        "            print(\"Keys:\", K.tolist())\n",
        "            print(\"Queries:\", Q.tolist())\n",
        "            print(\"Values:\", V.tolist())\n",
        "\n",
        "        dot = torch.matmul(Q, K.T)  # (seq_len, seq_len)\n",
        "        scaled_dot = dot / math.sqrt(self.d_k)\n",
        "        softmax_dot = nn.functional.softmax(scaled_dot, dim=1)\n",
        "        out = torch.matmul(softmax_dot, V)  # (seq_len, v_dim)\n",
        "\n",
        "        if verbose:\n",
        "            print(\"Attention Scores:\", softmax_dot.tolist())\n",
        "            print(\"Output:\", out.tolist())\n",
        "\n",
        "        if plot:\n",
        "            fig, axs = plt.subplots(1, 4, figsize=(12, 3))\n",
        "            self.plot_matrix(self.Qm.weight.T.detach().numpy(), \"Qm\", axs[0])\n",
        "            self.plot_matrix(self.Km.weight.T.detach().numpy(), \"Km\", axs[1])\n",
        "            self.plot_matrix(softmax_dot.detach().numpy(), \"Attention\", axs[2])\n",
        "            self.plot_matrix(out.detach().numpy(), \"Output\", axs[3])\n",
        "            plt.show()\n",
        "\n",
        "        return out\n",
        "\n",
        "    @staticmethod\n",
        "    def plot_matrix(matrix, title, ax):\n",
        "        ax.imshow(matrix, aspect='auto', cmap='viridis')\n",
        "        ax.set_title(title)\n",
        "        ax.set_xlabel(\"Dim\")\n",
        "        ax.set_ylabel(\"Seq\")\n",
        "        ax.grid(False)\n",
        "\n",
        "test()"
      ]
    },
    {
      "cell_type": "markdown",
      "metadata": {
        "id": "m0pDL6qpy1fA"
      },
      "source": [
        "## Self-Attention: Attention by Content\n",
        "\n",
        "In this coding homework, we will explore how Transformers can attend to different tokens in a variable-length sequence based on their contents. We will do this by **implementing a Transformer that performs the *identity* operation on a sequence of one-hot vectors**. We will then compare the performance and weights of this hand-coded Transformer with those of a PyTorch model trained on the same task.\n",
        "\n",
        "To hand-design the Transformer, we will **choose values for `Km`, `Qm`, and `Vm` that enable the model to attend to the content of each token in the input sequence**. We will then use this Transformer to process several example data points, and verify that the output matches the input.\n",
        "\n",
        "Once your hand-written Transformer is working correctly, we will run the PyTorch training loop to train a model on the identity operation task. We will then compare the weights and intermediate outputs of this model with those of our hand-coded transformer, and comment on their similarities and differences. Note that when we generate plots, we will rescale the range of the weights and outputs to 0-1, so we can compare their relative values without comparing absolute values.\n",
        "\n",
        "The test cases for our hand-coded transformer are as follows:\n",
        "\n",
        "```\n",
        "Input sequence -->   Output sequence\n",
        "[A, B, C, C]   -->   [A, B, C, C]\n",
        "[C, A, C]      -->   [C, A, C]\n",
        "[B, B, C]      -->   [B, B, C]\n",
        "```"
      ]
    },
    {
      "cell_type": "code",
      "execution_count": 28,
      "metadata": {
        "id": "iSJTwPREy1fB",
        "colab": {
          "base_uri": "https://localhost:8080/"
        },
        "outputId": "a1e1de44-fb24-451f-d4e6-31789830571c"
      },
      "outputs": [
        {
          "output_type": "stream",
          "name": "stdout",
          "text": [
            "Good Job!\n",
            "Good Job!\n",
            "Good Job!\n",
            "Good Job!\n",
            "Good Job!\n",
            "Good Job!\n",
            "Good Job!\n",
            "Good Job!\n",
            "Good Job!\n",
            "Good Job!\n"
          ]
        }
      ],
      "source": [
        "# The definition of tokens\n",
        "A = np.array([1,0,0])\n",
        "B = np.array([0,1,0])\n",
        "C = np.array([0,0,1])\n",
        "tokens = [A, B, C]\n",
        "\n",
        "Huge_number =  2e1\n",
        "Km = np.array([[Huge_number,-Huge_number, -Huge_number],\n",
        "              [-Huge_number,Huge_number, -Huge_number],\n",
        "              [-Huge_number,-Huge_number, Huge_number]])\n",
        "Qm = Km\n",
        "Vm = np.array(tokens)\n",
        "\n",
        "def generate_test_cases_identity(tokens, max_len=7):\n",
        "    \"\"\"\n",
        "    Generate a random sequence consisting of tokens for testing\n",
        "    \"\"\"\n",
        "    seq_len = np.random.randint(1, max_len)\n",
        "    input_arr = np.stack(random.choices(tokens, k=seq_len))\n",
        "    expected_out = input_arr\n",
        "    return input_arr, expected_out\n",
        "\n",
        "# Test your implementation\n",
        "show_attention = False  # Set this to True for debugging\n",
        "for i in range(10):\n",
        "    seq, expected_out = generate_test_cases_identity(tokens)\n",
        "    np_transformer = NumpyTransformer(Km, Qm, Vm)\n",
        "    out = np_transformer.forward(seq, verbose=show_attention)\n",
        "    if not np.allclose(out, expected_out, rtol=1e-3):\n",
        "        print(f'FAIL: {seq} -> {out} != {expected_out}')\n",
        "    else:\n",
        "      print('Good Job!')\n",
        "\n",
        "_set_seed(1997)\n",
        "seq, _ = generate_test_cases_identity(tokens)\n",
        "np_transformer = NumpyTransformer(Km, Qm, Vm)\n",
        "out = np_transformer.forward(seq, verbose=False)\n",
        "TO_SAVE[\"attention_by_content\"] = out.reshape(-1).tolist()\n",
        "TO_SAVE[\"attention_by_content_Q\"] = Qm.reshape(-1).tolist()\n",
        "TO_SAVE[\"attention_by_content_K\"] = Km.reshape(-1).tolist()\n",
        "TO_SAVE[\"attention_by_content_V\"] = Vm.reshape(-1).tolist()"
      ]
    },
    {
      "cell_type": "code",
      "execution_count": 12,
      "metadata": {
        "id": "tO6QkOh3y1fB",
        "colab": {
          "base_uri": "https://localhost:8080/",
          "height": 933
        },
        "outputId": "bb31822a-17f6-468b-9ae4-a8e6fa8d9f55"
      },
      "outputs": [
        {
          "output_type": "stream",
          "name": "stdout",
          "text": [
            "Step 0: loss 0.4911634922027588\n",
            "Step 1000: loss 0.0009149469551630318\n",
            "Step 2000: loss 0.008881769143044949\n",
            "Step 3000: loss 0.01725190319120884\n",
            "Step 4000: loss 0.009867138229310513\n",
            "Step 5000: loss 0.004985815845429897\n",
            "Step 6000: loss 0.0006846142350696027\n",
            "Step 7000: loss 0.001099123852327466\n",
            "Step 8000: loss 0.002010955708101392\n",
            "Step 9000: loss 0.001820888603106141\n",
            "Step 10000: loss 0.0004175232897978276\n",
            "seq: [[1 0 0]\n",
            " [0 1 0]\n",
            " [0 1 0]\n",
            " [0 0 1]\n",
            " [0 0 1]]\n",
            "========================================  Hand Designed  ========================================\n"
          ]
        },
        {
          "output_type": "display_data",
          "data": {
            "text/plain": [
              "<Figure size 2000x500 with 8 Axes>"
            ],
            "image/png": "[encoded data removed]"
          },
          "metadata": {}
        },
        {
          "output_type": "stream",
          "name": "stdout",
          "text": [
            "========================================    Learned    ========================================\n"
          ]
        },
        {
          "output_type": "display_data",
          "data": {
            "text/plain": [
              "<Figure size 2000x500 with 8 Axes>"
            ],
            "image/png": "[encoded data removed]"
          },
          "metadata": {}
        },
        {
          "output_type": "execute_result",
          "data": {
            "text/plain": [
              "(array([[1., 0., 0.],\n",
              "        [0., 1., 0.],\n",
              "        [0., 1., 0.],\n",
              "        [0., 0., 1.],\n",
              "        [0., 0., 1.]]),\n",
              " array([[9.07054924e-01, 3.71411799e-02, 5.58034481e-02],\n",
              "        [1.77222980e-03, 9.76905289e-01, 2.13222332e-02],\n",
              "        [1.77222980e-03, 9.76905289e-01, 2.13222332e-02],\n",
              "        [8.03523652e-04, 1.59401374e-02, 9.83256416e-01],\n",
              "        [8.03523652e-04, 1.59401374e-02, 9.83256416e-01]]))"
            ]
          },
          "metadata": {},
          "execution_count": 12
        }
      ],
      "source": [
        "# Compare the hand-designed and trained transformers\n",
        "def make_batch_identity(tokens=tokens, max_len=7):\n",
        "    seq, target = generate_test_cases_identity(tokens, max_len=max_len)\n",
        "    return torch.FloatTensor(seq), torch.FloatTensor(target)\n",
        "\n",
        "_set_seed(227)\n",
        "\n",
        "A = np.array([1,0,0])\n",
        "B = np.array([0,1,0])\n",
        "C = np.array([0,0,1])\n",
        "transformer_py, loss = train_loop(make_batch_identity, input_dim=len(A), qk_dim=Km.shape[1], v_dim=Vm.shape[1])\n",
        "seq = np.stack([A, B, B, C, C])\n",
        "print(\"seq:\", seq)\n",
        "compare_transformers(np_transformer, transformer_py, seq)  # If the plots don't print correctly, re-run this cell"
      ]
    },
    {
      "cell_type": "markdown",
      "source": [
        "**Similarities:**:\n",
        "1. Both include the same matrix $V$ as a diagonal matrix with the inputs values.\n",
        "2. Both include for each row of the matrices Qm and Km a large value (corresponding to the value in $V$) and smaller val1ues for the rest\n",
        "3. The attention matrix is the same between the two.\n",
        "\n",
        "**Differences:**\n",
        "1. The hand-designed matrices Qm and Km are diagonal and orthogonal to $X$, the ones learned by the transformer are more evenly distributed."
      ],
      "metadata": {
        "id": "dVKaXiEhy1fB"
      }
    },
    {
      "cell_type": "markdown",
      "metadata": {
        "id": "-JdxNRWuy1fB"
      },
      "source": [
        "## Self-Attention: Attention by Position\n",
        "\n",
        "In Transformers, tokens can decide what other tokens to attend to by looking at their positions. In this section, we'll explore how this works by **hand-designing a Transformer for the task of copying the first token of a sequence across the entire sequence.**\n",
        "\n",
        "To accomplish this, we'll add a positional encoding to the input sequence. Transformers typically use a sinusoidal positional encoding or a learned positional encoding, but we'll **set the weight by hand to any value we choose**. These positional encodings will get concatenated to the input sequence inside the Transformer. For simplicity, we'll *concatenate* the positional encoding to the input embeddings instead of adding it.\n",
        "\n",
        "Here are the example data points (where `A`, `B`, and `C` are vectors and `A:pos_0` represents the concatenation between vectors `A` and `pos_0`):\n",
        "\n",
        "```\n",
        "Input sequence --> Input sequence with positional encoding --> Output sequence\n",
        "[A, B, C, C]   --> [A:pos_0, B:pos_1, C:pos_2, C:pos_3]    --> [A, A, A, A]\n",
        "[C, A, C]      --> [C:pos_0, A:pos_1, C:pos_2]             --> [C, C, C]\n",
        "[B, B, C]      --> [B:pos_0, B:pos_1, C:pos_2]             --> [B, B, B]\n",
        "```\n",
        "\n",
        "Once you've passed the test cases, run the training loop below to train the PyTorch model."
      ]
    },
    {
      "cell_type": "code",
      "execution_count": 29,
      "metadata": {
        "id": "kls4VoqXy1fC",
        "colab": {
          "base_uri": "https://localhost:8080/"
        },
        "outputId": "ac85ad1b-0177-48c9-a624-93cafac76a1d"
      },
      "outputs": [
        {
          "output_type": "stream",
          "name": "stdout",
          "text": [
            "Good job!\n",
            "Good job!\n",
            "Good job!\n",
            "Good job!\n",
            "Good job!\n",
            "Good job!\n",
            "Good job!\n",
            "Good job!\n",
            "Good job!\n",
            "Good job!\n"
          ]
        }
      ],
      "source": [
        "A = np.array([1,0,0])\n",
        "B = np.array([0,1,0])\n",
        "C = np.array([0,0,1])\n",
        "\n",
        "tokens = [A, B, C]\n",
        "\n",
        "pos = np.array([[1, 0, 0, 0],\n",
        "       [0, 1, 0, 0],\n",
        "       [0, 0, 1, 0],\n",
        "       [0,0, 0, 1]])\n",
        "\n",
        "Qm = np.array([[0],\n",
        "      [0],\n",
        "      [0],\n",
        "      [Huge_number],\n",
        "      [Huge_number],\n",
        "      [Huge_number],\n",
        "      [Huge_number]])\n",
        "\n",
        "Km = np.array([[-Huge_number],\n",
        "      [-Huge_number],\n",
        "      [-Huge_number],\n",
        "      [Huge_number],\n",
        "      [-Huge_number],\n",
        "      [-Huge_number],\n",
        "      [-Huge_number]])\n",
        "\n",
        "Vm = np.array([[1, 0, 0],\n",
        "      [0, 1, 0],\n",
        "      [0, 0, 1],\n",
        "      [0, 0, 0],\n",
        "      [0, 0 ,0 ],\n",
        "      [0, 0,0],\n",
        "      [0, 0, 0]])\n",
        "\n",
        "\n",
        "def generate_test_cases_first(tokens, max_len=5):\n",
        "    seq_len = np.random.randint(1, max_len)\n",
        "    input_arr = np.stack(random.choices(tokens, k=seq_len))\n",
        "    # Expected output is to repeat the first row of the input k times\n",
        "    expected_out = np.stack([input_arr[0]] * seq_len)\n",
        "    return input_arr, expected_out\n",
        "\n",
        "# Test your implementation\n",
        "show_attention = False  # Set this to True for debugging\n",
        "for i in range(10):\n",
        "    seq, expected_out = generate_test_cases_first(tokens)\n",
        "    np_transformer = NumpyTransformer(Km, Qm, Vm, pos=pos)\n",
        "    out = np_transformer.forward(seq, verbose=show_attention)\n",
        "    if not np.allclose(out, expected_out, rtol=1e-3):\n",
        "        print(f'FAIL: {seq} -> {out} != {expected_out}')\n",
        "    else:\n",
        "        print('Good job!')\n",
        "\n",
        "_set_seed(2017)\n",
        "seq, _ = generate_test_cases_first(tokens)\n",
        "np_transformer = NumpyTransformer(Km, Qm, Vm, pos=pos)\n",
        "out = np_transformer.forward(seq, verbose=show_attention)\n",
        "TO_SAVE[\"attention_by_position\"] = out.reshape(-1).tolist()\n",
        "TO_SAVE[\"attention_by_position_pos\"] = pos.reshape(-1).tolist()\n",
        "TO_SAVE[\"attention_by_position_Q\"] = Qm.reshape(-1).tolist()\n",
        "TO_SAVE[\"attention_by_position_K\"] = Km.reshape(-1).tolist()\n",
        "TO_SAVE[\"attention_by_position_V\"] = Vm.reshape(-1).tolist()"
      ]
    },
    {
      "cell_type": "code",
      "execution_count": 31,
      "metadata": {
        "id": "KRTVNgLqy1fC",
        "colab": {
          "base_uri": "https://localhost:8080/",
          "height": 863
        },
        "outputId": "d2a274da-c13d-42f9-8955-4ce0dc8f06f0"
      },
      "outputs": [
        {
          "output_type": "stream",
          "name": "stdout",
          "text": [
            "Step 0: loss 1.4877721071243286\n",
            "Step 1000: loss 0.00036026726593263447\n",
            "Step 2000: loss 0.00014195351104717702\n",
            "Step 3000: loss 4.8930869525065646e-05\n",
            "Step 4000: loss 2.1190344341448508e-05\n",
            "Step 5000: loss 0.0001353463449049741\n",
            "Step 6000: loss 6.326211587293074e-05\n",
            "Step 7000: loss 3.396003421585192e-06\n",
            "Step 8000: loss 7.459262269549072e-05\n",
            "Step 9000: loss 1.6956613762886263e-05\n",
            "Step 10000: loss 9.286255954066291e-05\n",
            "========================================  Hand Designed  ========================================\n"
          ]
        },
        {
          "output_type": "display_data",
          "data": {
            "text/plain": [
              "<Figure size 2000x500 with 8 Axes>"
            ],
            "image/png": "[encoded data removed]"
          },
          "metadata": {}
        },
        {
          "output_type": "stream",
          "name": "stdout",
          "text": [
            "========================================    Learned    ========================================\n"
          ]
        },
        {
          "output_type": "display_data",
          "data": {
            "text/plain": [
              "<Figure size 2000x500 with 8 Axes>"
            ],
            "image/png": "[encoded data removed]"
          },
          "metadata": {}
        },
        {
          "output_type": "stream",
          "name": "stdout",
          "text": [
            "seq: [[1 0 0]\n",
            " [0 1 0]\n",
            " [0 1 0]]\n",
            "Out (Hand designed) \n",
            " [[1. 0. 0.]\n",
            " [1. 0. 0.]\n",
            " [1. 0. 0.]]\n",
            " Out (Learned) \n",
            " [[ 0.98  0.03 -0.01]\n",
            " [ 1.01 -0.   -0.  ]\n",
            " [ 1.    0.01 -0.  ]]\n"
          ]
        }
      ],
      "source": [
        "# Compare the numpy and trained pytorch transformers\n",
        "def make_batch_first(tokens=tokens, max_len=5):\n",
        "    seq, target = generate_test_cases_first(tokens, max_len=max_len)\n",
        "    return torch.FloatTensor(seq), torch.FloatTensor(target)\n",
        "\n",
        "pos_dim = pos.shape[1]\n",
        "transformer_py, loss = train_loop(make_batch_first, input_dim=len(A), qk_dim=Km.shape[1], v_dim=Vm.shape[1], pos_dim=pos_dim, max_seq_len=pos.shape[0])\n",
        "seq = np.stack([A, B, B])\n",
        "out_np, out_py = compare_transformers(np_transformer, transformer_py, seq)\n",
        "print(\"seq:\", seq)\n",
        "print(f'Out (Hand designed) \\n {np.round(out_np, 2)}')\n",
        "print(f' Out (Learned) \\n {np.round(out_py, 2)}')"
      ]
    }
  ],
  "metadata": {
    "colab": {
      "provenance": []
    },
    "language_info": {
      "name": "python"
    },
    "kernelspec": {
      "name": "python3",
      "display_name": "Python 3"
    }
  },
  "nbformat": 4,
  "nbformat_minor": 0
}